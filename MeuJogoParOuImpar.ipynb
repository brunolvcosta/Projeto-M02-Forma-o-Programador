{
  "nbformat": 4,
  "nbformat_minor": 0,
  "metadata": {
    "colab": {
      "provenance": []
    },
    "kernelspec": {
      "name": "python3",
      "display_name": "Python 3"
    },
    "language_info": {
      "name": "python"
    }
  },
  "cells": [
    {
      "cell_type": "code",
      "execution_count": null,
      "metadata": {
        "colab": {
          "base_uri": "https://localhost:8080/",
          "height": 512
        },
        "id": "vRen3R6Jbn0C",
        "outputId": "aab2eb9c-ab8b-4456-a91a-1b4494874c6f"
      },
      "outputs": [
        {
          "output_type": "stream",
          "name": "stdout",
          "text": [
            "->nome do jogador 1: Bruno\n",
            "->nome do jogador 2: Lucas\n",
            "Os jogadores são Bruno e Lucas.\n",
            "// Quem escolhe primeiro? Bruno ou Lucas?\n",
            "digite 1 para escolher Bruno ou 2 para escolher Lucas. ->1\n",
            "//1 escolhe primeiro e 2 escolhe segundo.\n",
            "//digite 0 para escolher par e 1 para escolher ímpar\n"
          ]
        },
        {
          "output_type": "error",
          "ename": "KeyboardInterrupt",
          "evalue": "ignored",
          "traceback": [
            "\u001b[0;31m---------------------------------------------------------------------------\u001b[0m",
            "\u001b[0;31mKeyboardInterrupt\u001b[0m                         Traceback (most recent call last)",
            "\u001b[0;32m<ipython-input-1-1f862e6119e3>\u001b[0m in \u001b[0;36m<cell line: 20>\u001b[0;34m()\u001b[0m\n\u001b[1;32m     18\u001b[0m \u001b[0;34m\u001b[0m\u001b[0m\n\u001b[1;32m     19\u001b[0m \u001b[0mprint\u001b[0m\u001b[0;34m(\u001b[0m\u001b[0;34m\"//digite 0 para escolher par e 1 para escolher ímpar\"\u001b[0m\u001b[0;34m)\u001b[0m\u001b[0;34m\u001b[0m\u001b[0;34m\u001b[0m\u001b[0m\n\u001b[0;32m---> 20\u001b[0;31m \u001b[0mescolha1\u001b[0m \u001b[0;34m=\u001b[0m \u001b[0minput\u001b[0m\u001b[0;34m(\u001b[0m\u001b[0;34mf\" {primeiro_jogador}, você quer par ou ímpar? ->\"\u001b[0m\u001b[0;34m)\u001b[0m\u001b[0;34m\u001b[0m\u001b[0;34m\u001b[0m\u001b[0m\n\u001b[0m\u001b[1;32m     21\u001b[0m \u001b[0mescolha2\u001b[0m \u001b[0;34m=\u001b[0m \u001b[0;32mNone\u001b[0m\u001b[0;34m\u001b[0m\u001b[0;34m\u001b[0m\u001b[0m\n\u001b[1;32m     22\u001b[0m \u001b[0;34m\u001b[0m\u001b[0m\n",
            "\u001b[0;32m/usr/local/lib/python3.10/dist-packages/ipykernel/kernelbase.py\u001b[0m in \u001b[0;36mraw_input\u001b[0;34m(self, prompt)\u001b[0m\n\u001b[1;32m    849\u001b[0m                 \u001b[0;34m\"raw_input was called, but this frontend does not support input requests.\"\u001b[0m\u001b[0;34m\u001b[0m\u001b[0;34m\u001b[0m\u001b[0m\n\u001b[1;32m    850\u001b[0m             )\n\u001b[0;32m--> 851\u001b[0;31m         return self._input_request(str(prompt),\n\u001b[0m\u001b[1;32m    852\u001b[0m             \u001b[0mself\u001b[0m\u001b[0;34m.\u001b[0m\u001b[0m_parent_ident\u001b[0m\u001b[0;34m,\u001b[0m\u001b[0;34m\u001b[0m\u001b[0;34m\u001b[0m\u001b[0m\n\u001b[1;32m    853\u001b[0m             \u001b[0mself\u001b[0m\u001b[0;34m.\u001b[0m\u001b[0m_parent_header\u001b[0m\u001b[0;34m,\u001b[0m\u001b[0;34m\u001b[0m\u001b[0;34m\u001b[0m\u001b[0m\n",
            "\u001b[0;32m/usr/local/lib/python3.10/dist-packages/ipykernel/kernelbase.py\u001b[0m in \u001b[0;36m_input_request\u001b[0;34m(self, prompt, ident, parent, password)\u001b[0m\n\u001b[1;32m    893\u001b[0m             \u001b[0;32mexcept\u001b[0m \u001b[0mKeyboardInterrupt\u001b[0m\u001b[0;34m:\u001b[0m\u001b[0;34m\u001b[0m\u001b[0;34m\u001b[0m\u001b[0m\n\u001b[1;32m    894\u001b[0m                 \u001b[0;31m# re-raise KeyboardInterrupt, to truncate traceback\u001b[0m\u001b[0;34m\u001b[0m\u001b[0;34m\u001b[0m\u001b[0m\n\u001b[0;32m--> 895\u001b[0;31m                 \u001b[0;32mraise\u001b[0m \u001b[0mKeyboardInterrupt\u001b[0m\u001b[0;34m(\u001b[0m\u001b[0;34m\"Interrupted by user\"\u001b[0m\u001b[0;34m)\u001b[0m \u001b[0;32mfrom\u001b[0m \u001b[0;32mNone\u001b[0m\u001b[0;34m\u001b[0m\u001b[0;34m\u001b[0m\u001b[0m\n\u001b[0m\u001b[1;32m    896\u001b[0m             \u001b[0;32mexcept\u001b[0m \u001b[0mException\u001b[0m \u001b[0;32mas\u001b[0m \u001b[0me\u001b[0m\u001b[0;34m:\u001b[0m\u001b[0;34m\u001b[0m\u001b[0;34m\u001b[0m\u001b[0m\n\u001b[1;32m    897\u001b[0m                 \u001b[0mself\u001b[0m\u001b[0;34m.\u001b[0m\u001b[0mlog\u001b[0m\u001b[0;34m.\u001b[0m\u001b[0mwarning\u001b[0m\u001b[0;34m(\u001b[0m\u001b[0;34m\"Invalid Message:\"\u001b[0m\u001b[0;34m,\u001b[0m \u001b[0mexc_info\u001b[0m\u001b[0;34m=\u001b[0m\u001b[0;32mTrue\u001b[0m\u001b[0;34m)\u001b[0m\u001b[0;34m\u001b[0m\u001b[0;34m\u001b[0m\u001b[0m\n",
            "\u001b[0;31mKeyboardInterrupt\u001b[0m: Interrupted by user"
          ]
        }
      ],
      "source": [
        "jogador1 = input(\"->nome do jogador 1: \")\n",
        "jogador2 = input(\"->nome do jogador 2: \")\n",
        "\n",
        "print(f\"Os jogadores são {jogador1} e {jogador2}.\")\n",
        "\n",
        "print(f\"// Quem escolhe primeiro? {jogador1} ou {jogador2}?\")\n",
        "primeiro_jogador = input(f\"digite 1 para escolher {jogador1} ou 2 para escolher {jogador2}. ->\")\n",
        "segundo_jogador = None\n",
        "\n",
        "if primeiro_jogador == \"1\":\n",
        "  primeiro_jogador = jogador1\n",
        "  segundo_jogador = jogador2\n",
        "elif primeiro_jogador == \"2\":\n",
        "  primeiro_jogador = jogador2\n",
        "  segundo_jogador = jogador1\n",
        "\n",
        "print(f\"//{primeiro_jogador} escolhe primeiro e {segundo_jogador} escolhe segundo.\")\n",
        "\n",
        "print(\"//digite 0 para escolher par e 1 para escolher ímpar\")\n",
        "escolha1 = input(f\" {primeiro_jogador}, você quer par ou ímpar? ->\")\n",
        "escolha2 = None\n",
        "\n",
        "if escolha1 == \"1\":\n",
        "  escolha1 = \"ímpar\"\n",
        "  escolha2 = \"par\"\n",
        "elif escolha1 == \"0\":\n",
        "  escolha1 = \"par\"\n",
        "  escolha2 = \"ímpar\"\n",
        "\n",
        "print(f\"//{primeiro_jogador} escolheu {escolha1} e  {segundo_jogador} escolheu {escolha2}.\")\n",
        "\n",
        "print(\"//ESCOLHAM SEUS NÚMEROS\")\n",
        "numero_jogador_1 = int(input(f\"numero de {primeiro_jogador}: \"))\n",
        "numero_jogador_2 = int(input(f\"numero de {segundo_jogador}: \"))\n",
        "\n",
        "print(f\"{primeiro_jogador} escolheu {numero_jogador_1} e {segundo_jogador} escolheu {numero_jogador_2}\")\n",
        "\n",
        "numero_final = numero_jogador_1 + numero_jogador_2\n",
        "print(f\"O número final é {numero_final}.\")\n",
        "\n",
        "if numero_final % 2 == 0:\n",
        "  vencedor = \"par\"\n",
        "else:\n",
        "  vencedor = \"ímpar\"\n",
        "\n",
        "if vencedor == escolha1:\n",
        "  print(f\"{primeiro_jogador} venceu!\")\n",
        "else:\n",
        "  print(f\"{segundo_jogador} venceu!\")"
      ]
    }
  ]
}